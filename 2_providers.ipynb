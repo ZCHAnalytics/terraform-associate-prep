{
 "cells": [
  {
   "cell_type": "markdown",
   "metadata": {},
   "source": [
    "# 2. Add provider and needed resources\n",
    "\n",
    "In the `providers.tf` I specify Amazon as a provider. \n",
    "\n",
    "It is private by default so only I can access it as an authorised IAM user."
   ]
  }
 ],
 "metadata": {
  "language_info": {
   "name": "python"
  }
 },
 "nbformat": 4,
 "nbformat_minor": 2
}
