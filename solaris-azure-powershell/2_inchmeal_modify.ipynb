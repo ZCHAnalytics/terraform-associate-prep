{
 "cells": [
  {
   "cell_type": "markdown",
   "metadata": {},
   "source": [
    "# Modify Infrastructure in Azure with Powershell\n",
    "\n",
    "## Add a new resource\n",
    "## Modify an existing resource"
   ]
  },
  {
   "cell_type": "markdown",
   "metadata": {},
   "source": [
    "# Provision Virtual Network \n",
    "- Add a a new resource in the main configuration file\n",
    "- Specify the name of the resource group to contain the VNet to establish a dependency between the resources\n",
    "- Apply changes"
   ]
  },
  {
   "cell_type": "markdown",
   "metadata": {},
   "source": [
    "```bash \n",
    "#  Define a new resource to add to the configuration file\n",
    "resource \"azurerm_virtual_network\" \"vnet\" {\n",
    "  name                = \"Solar-Network\"\n",
    "  address_space       = [\"10.0.0.0/16\"]\n",
    "  location            = \"uksouth\"\n",
    "\n",
    "  # add the name of resource group to create dependency\n",
    "  resource_group_name = azurerm_resource_group.rg.name\n",
    "}"
   ]
  },
  {
   "cell_type": "markdown",
   "metadata": {},
   "source": [
    "## Modify an existing resource\n",
    "\n",
    "- Update the resource group by adding the tags (for better resource management)\n",
    "- Apply changes"
   ]
  },
  {
   "cell_type": "markdown",
   "metadata": {},
   "source": [
    "```bash\n",
    "  tags = {\n",
    "    Environment = \"Awesome terra\"\n",
    "    Team = \"DevOps\"\n",
    "  }"
   ]
  },
  {
   "cell_type": "markdown",
   "metadata": {},
   "source": [
    "## Tidying up\n",
    "\n",
    "Run `terraform destroy` to release resources when no longer needed"
   ]
  }
 ],
 "metadata": {
  "kernelspec": {
   "display_name": "azure_env",
   "language": "python",
   "name": "python3"
  },
  "language_info": {
   "name": "python",
   "version": "3.12.0"
  }
 },
 "nbformat": 4,
 "nbformat_minor": 2
}
