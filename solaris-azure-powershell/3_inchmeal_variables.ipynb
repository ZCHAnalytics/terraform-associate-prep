{
 "cells": [
  {
   "cell_type": "markdown",
   "metadata": {},
   "source": [
    "# Variables\n",
    "\n",
    "## Declare variables in Terraform configuration files (persistent)\n",
    "## Pass variable in Terraform CLI (temporary)"
   ]
  },
  {
   "cell_type": "markdown",
   "metadata": {},
   "source": [
    "## Define input variables in configuration files\n",
    "\n",
    "- Create a new file for variables \n",
    "- Add a block that defines a variable with a default value and description  \n",
    "- Add variable to `variables.tf` file \n",
    "- Update `main.tf` scriipt with the new variable\n",
    "- Apply new configuration "
   ]
  },
  {
   "cell_type": "markdown",
   "metadata": {},
   "source": [
    "## Pass variable in CLI \n",
    "\n",
    "Variable can be passed using `--var` flag without modifying the configuration files themselves to customize the behavior of Terraform deployments. The value is temporary and does not persist in the configuration files."
   ]
  },
  {
   "cell_type": "code",
   "execution_count": null,
   "metadata": {
    "vscode": {
     "languageId": "powershell"
    }
   },
   "outputs": [],
   "source": [
    "# pass a temporary variable\n",
    "terraform apply -var \"resource_group_name=lunar_rg\""
   ]
  },
  {
   "cell_type": "markdown",
   "metadata": {},
   "source": []
  }
 ],
 "metadata": {
  "language_info": {
   "name": "python"
  }
 },
 "nbformat": 4,
 "nbformat_minor": 2
}
