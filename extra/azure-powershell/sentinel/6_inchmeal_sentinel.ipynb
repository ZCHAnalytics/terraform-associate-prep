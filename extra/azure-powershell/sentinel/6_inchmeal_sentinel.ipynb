{
 "cells": [
  {
   "cell_type": "markdown",
   "metadata": {},
   "source": [
    "# Sentinel Policy Sets\n",
    "\n",
    "## Pre-requisites\n",
    "- Azure account\n",
    "- Terraform version 0.12.0 or higher \n",
    "- Azure CLI version 2.13.0 or later, run `az --vrsion` to find the version\n",
    "\n",
    "## 1. Create the Terraform Configuration Files\n",
    "1.1. Configuration file > provider block: \n",
    "- `azurerm` \n",
    "- resource `azurerm_subscription_policy_assignment`\n",
    "\n",
    "1.2. Variables configuration > add `custom_scope` variable\n",
    "\n",
    "Choice of scope patterns:\n",
    "- Subscription: /subscriptions/{subscriptionId}\n",
    "- Resource group: /subscriptions/{subscriptionId}/resourceGroups/{resourceGroupName}\n",
    "- Resource: /subscriptions/{subscriptionId}/resourceGroups/{resourceGroupName}/providers/{resourceProviderNamespace}/[{parentResourcePath}/]\n",
    "\n",
    "Add subscription_id patter by adding sensitive credential in tfvars file in this format:\n",
    "custom_scope = \"/subscriptions/<azure subscription id>\"\n",
    "\n",
    "1.3. Outputs configuration > add `assignment_id` \n",
    "\n",
    "## 2. Initiate Terraform Plan and Apply changes\n",
    "- Initiate terraform directory,\n",
    "- Login into Azure\n",
    "- Create the execution plan with the `terraform plan` command and `out` parameter \n",
    "- Apply the execution plan and specify the `assignment.tfplan` already created\n",
    "\n",
    "## 3. Identify Non-compliant Resources\n",
    "To view the resources that aren't compliant under this new assignment, use the assignment_id returned by terraform apply. \n",
    "\n",
    "## 5. Clean Up Resources"
   ]
  },
  {
   "cell_type": "code",
   "execution_count": null,
   "metadata": {
    "vscode": {
     "languageId": "powershell"
    }
   },
   "outputs": [],
   "source": [
    "# 1 Initiate and Execute Terraform Plan\n",
    "terraform init\n",
    "az login # log inn in a web browser\n",
    "terraform plan -out assignment.tfplan\n",
    "terraform apply assignment.tfplan"
   ]
  },
  {
   "cell_type": "code",
   "execution_count": null,
   "metadata": {
    "vscode": {
     "languageId": "powershell"
    }
   },
   "outputs": [],
   "source": [
    "# Identify con-compliant resources\n",
    "armclient post \"/subscriptions/<subscriptionID>/providers/Microsoft.PolicyInsights/policyStates/latest/queryResults?api-version=2019-10-01&$filter=IsCompliant eq false and PolicyAssignmentId eq '<policyAssignmentID>'&$apply=groupby((ResourceId))\" > <json file to direct the output with the resource IDs into>"
   ]
  },
  {
   "cell_type": "markdown",
   "metadata": {},
   "source": [
    "## Clean up resources\n",
    "To remove the assignment created, use Azure CLI or reverse the Terraform execution plan with terraform destroy."
   ]
  },
  {
   "cell_type": "code",
   "execution_count": null,
   "metadata": {
    "vscode": {
     "languageId": "powershell"
    }
   },
   "outputs": [],
   "source": [
    "az policy assignment delete --name 'audit-vm-manageddisks' --scope '/subscriptions/<subscriptionID>/<resourceGroupName>'"
   ]
  },
  {
   "cell_type": "code",
   "execution_count": null,
   "metadata": {
    "vscode": {
     "languageId": "powershell"
    }
   },
   "outputs": [],
   "source": [
    "terraform destroy"
   ]
  }
 ],
 "metadata": {
  "language_info": {
   "name": "python"
  }
 },
 "nbformat": 4,
 "nbformat_minor": 2
}
