{
 "cells": [
  {
   "cell_type": "markdown",
   "metadata": {},
   "source": [
    "# The VCS-driven workflow\n"
   ]
  },
  {
   "cell_type": "markdown",
   "metadata": {},
   "source": [
    "- Start the login flow `terraform login`\n",
    "- Interact with Terraform API token generator in a web browser\n",
    "- Add the token to the CLI\n",
    "- Create a credentials variable set in Cloud/organization/settings/variable set/create variable set\n"
   ]
  }
 ],
 "metadata": {
  "language_info": {
   "name": "python"
  }
 },
 "nbformat": 4,
 "nbformat_minor": 2
}
